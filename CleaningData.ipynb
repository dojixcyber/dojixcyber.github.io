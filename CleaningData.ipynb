{
 "cells": [
  {
   "cell_type": "code",
   "execution_count": 19,
   "metadata": {},
   "outputs": [],
   "source": [
    "import pandas as pd\n",
    "import geocoder"
   ]
  },
  {
   "cell_type": "code",
   "execution_count": 20,
   "metadata": {},
   "outputs": [],
   "source": [
    "data = pd.read_csv('18k_Projects.csv')"
   ]
  },
  {
   "cell_type": "code",
   "execution_count": 21,
   "metadata": {},
   "outputs": [
    {
     "data": {
      "text/plain": [
       "Index(['Id', 'Name', 'Url', 'State', 'Currency', 'Top Category', 'Category',\n",
       "       'Creator', 'Location', 'Updates', 'Comments', 'Rewards', 'Goal',\n",
       "       'Pledged', 'Backers', 'Start', 'End', 'Duration in Days',\n",
       "       'Facebook Connected', 'Facebook Friends', 'Facebook Shares',\n",
       "       'Has Video', 'Latitude', 'Longitude', 'Start Timestamp (UTC)',\n",
       "       'End Timestamp (UTC)', 'Creator Bio', 'Creator Website',\n",
       "       'Creator - # Projects Created', 'Creator - # Projects Backed',\n",
       "       '# Videos', '# Images', '# Words (Description)',\n",
       "       '# Words (Risks and Challenges)', '# FAQs'],\n",
       "      dtype='object')"
      ]
     },
     "execution_count": 21,
     "metadata": {},
     "output_type": "execute_result"
    }
   ],
   "source": [
    "data.columns"
   ]
  },
  {
   "cell_type": "code",
   "execution_count": 22,
   "metadata": {},
   "outputs": [],
   "source": [
    "f_data = data[['Id', 'Name', 'State', 'Top Category', 'Creator', 'Location', 'Goal', 'Pledged', 'Backers', 'Duration in Days', 'Facebook Connected', 'Facebook Friends', 'Facebook Shares', 'Creator - # Projects Created', 'Creator - # Projects Backed', 'Latitude', 'Longitude']]"
   ]
  },
  {
   "cell_type": "code",
   "execution_count": 80,
   "metadata": {},
   "outputs": [
    {
     "name": "stdout",
     "output_type": "stream",
     "text": [
      "Collecting reverse_geocoder\n",
      "  Downloading https://files.pythonhosted.org/packages/0b/0f/b7d5d4b36553731f11983e19e1813a1059ad0732c5162c01b3220c927d31/reverse_geocoder-1.5.1.tar.gz (2.2MB)\n",
      "Requirement already satisfied: numpy>=1.11.0 in c:\\users\\shinu\\anaconda3\\lib\\site-packages (from reverse_geocoder) (1.16.4)\n",
      "Requirement already satisfied: scipy>=0.17.1 in c:\\users\\shinu\\anaconda3\\lib\\site-packages (from reverse_geocoder) (1.2.1)\n",
      "Building wheels for collected packages: reverse-geocoder\n",
      "  Building wheel for reverse-geocoder (setup.py): started\n",
      "  Building wheel for reverse-geocoder (setup.py): finished with status 'done'\n",
      "  Stored in directory: C:\\Users\\shinu\\AppData\\Local\\pip\\Cache\\wheels\\47\\05\\50\\b1350ff094ef91e082665b4a2f9ca551f8acea4aa55d796b26\n",
      "Successfully built reverse-geocoder\n",
      "Installing collected packages: reverse-geocoder\n",
      "Successfully installed reverse-geocoder-1.5.1\n"
     ]
    }
   ],
   "source": [
    "!pip install reverse_geocoder"
   ]
  },
  {
   "cell_type": "code",
   "execution_count": 28,
   "metadata": {},
   "outputs": [
    {
     "data": {
      "text/plain": [
       "Top Category\n",
       "Journalism       1.0\n",
       "Crafts           2.0\n",
       "Photography      2.0\n",
       "Fashion          3.0\n",
       "Theater          4.0\n",
       "Comics           9.0\n",
       "Design           9.0\n",
       "Games            9.0\n",
       "Technology       9.0\n",
       "Art             14.0\n",
       "Publishing      14.0\n",
       "Film & Video    18.0\n",
       "Food            22.0\n",
       "Music           35.0\n",
       "Name: State, dtype: float64"
      ]
     },
     "execution_count": 28,
     "metadata": {},
     "output_type": "execute_result"
    }
   ],
   "source": [
    "f_data.groupby(['Location', 'Top Category'])['State'].sum()['Portland'].sort_values()"
   ]
  },
  {
   "cell_type": "code",
   "execution_count": 90,
   "metadata": {},
   "outputs": [],
   "source": [
    "f_data.to_csv('hetsvi_cleaned.csv')"
   ]
  },
  {
   "cell_type": "code",
   "execution_count": null,
   "metadata": {},
   "outputs": [],
   "source": []
  },
  {
   "cell_type": "code",
   "execution_count": 5,
   "metadata": {},
   "outputs": [],
   "source": [
    "f_data = f_data.dropna(subset=['Latitude','Longitude'])"
   ]
  },
  {
   "cell_type": "code",
   "execution_count": 106,
   "metadata": {},
   "outputs": [],
   "source": [
    "coordinates = tuple(list(f_data.apply(lambda x: (x['Latitude'], x['Longitude']), axis=1)))"
   ]
  },
  {
   "cell_type": "code",
   "execution_count": 107,
   "metadata": {},
   "outputs": [],
   "source": [
    "results = rg.search(coordinates)"
   ]
  },
  {
   "cell_type": "code",
   "execution_count": 108,
   "metadata": {},
   "outputs": [],
   "source": [
    "in_us = []\n",
    "region = []\n",
    "for i in results:\n",
    "    in_us.append(i['cc']=='US')\n",
    "    region.append(i['admin1'])"
   ]
  },
  {
   "cell_type": "code",
   "execution_count": 109,
   "metadata": {},
   "outputs": [],
   "source": [
    "f_data['IN US'] = in_us\n",
    "f_data['region'] = region"
   ]
  },
  {
   "cell_type": "code",
   "execution_count": 110,
   "metadata": {},
   "outputs": [],
   "source": [
    "f_data = f_data.loc[f_data['IN US']==True]"
   ]
  },
  {
   "cell_type": "code",
   "execution_count": 111,
   "metadata": {},
   "outputs": [],
   "source": [
    "f_data = f_data.drop('IN US',axis=1)"
   ]
  },
  {
   "cell_type": "code",
   "execution_count": 112,
   "metadata": {},
   "outputs": [
    {
     "data": {
      "text/plain": [
       "(7543, 18)"
      ]
     },
     "execution_count": 112,
     "metadata": {},
     "output_type": "execute_result"
    }
   ],
   "source": [
    "f_data.shape"
   ]
  },
  {
   "cell_type": "code",
   "execution_count": 26,
   "metadata": {},
   "outputs": [
    {
     "name": "stderr",
     "output_type": "stream",
     "text": [
      "C:\\Users\\shinu\\Anaconda3\\lib\\site-packages\\ipykernel_launcher.py:1: SettingWithCopyWarning: \n",
      "A value is trying to be set on a copy of a slice from a DataFrame.\n",
      "Try using .loc[row_indexer,col_indexer] = value instead\n",
      "\n",
      "See the caveats in the documentation: http://pandas.pydata.org/pandas-docs/stable/indexing.html#indexing-view-versus-copy\n",
      "  \"\"\"Entry point for launching an IPython kernel.\n"
     ]
    }
   ],
   "source": [
    "f_data['State']=f_data['State'].replace({'failed':False,'successful':True})"
   ]
  },
  {
   "cell_type": "code",
   "execution_count": 168,
   "metadata": {},
   "outputs": [],
   "source": [
    "final_maps= f_data.groupby('region')['State'].sum().append(pd.Series({'District of Columbia':0}))"
   ]
  },
  {
   "cell_type": "code",
   "execution_count": 138,
   "metadata": {},
   "outputs": [
    {
     "data": {
      "text/plain": [
       "array([30, 33, 60, 40, 36, 31, 45, 28, 26,  9, 46, 14, 20, 42, 59, 47, 35,\n",
       "       32, 50, 34, 25, 41, 57, 53, 39, 15, 29, 22, 10, 24, 21, 55, 27, 18,\n",
       "       16, 19, 23, 44,  6, 49, 51, 37, 12, 43, 56, 48, 11,  7, 38, 17, 54,\n",
       "       58,  8, 13, 52,  3,  5,  1,  4], dtype=int64)"
      ]
     },
     "execution_count": 138,
     "metadata": {},
     "output_type": "execute_result"
    }
   ],
   "source": [
    "f_data['Duration in Days'].unique()"
   ]
  },
  {
   "cell_type": "code",
   "execution_count": 152,
   "metadata": {},
   "outputs": [],
   "source": [
    "pop_data = pd.read_csv('nst-est2018-alldata.csv')"
   ]
  },
  {
   "cell_type": "code",
   "execution_count": 163,
   "metadata": {},
   "outputs": [],
   "source": [
    "pop_vals = pop_data.loc[[x in list(final_maps.index) for x in pop_data['NAME']]][['NAME', 'POPESTIMATE2014']].set_index('NAME')"
   ]
  },
  {
   "cell_type": "code",
   "execution_count": 183,
   "metadata": {},
   "outputs": [],
   "source": [
    "standard_pop = {}\n",
    "for i in pop_vals.index:\n",
    "    standard_pop[i] = (final_maps[i]/pop_vals.loc[i]['POPESTIMATE2014'])*1000000"
   ]
  },
  {
   "cell_type": "code",
   "execution_count": 188,
   "metadata": {},
   "outputs": [
    {
     "name": "stderr",
     "output_type": "stream",
     "text": [
      "C:\\Users\\shinu\\Anaconda3\\lib\\site-packages\\ipykernel_launcher.py:1: FutureWarning: The signature of `Series.to_csv` was aligned to that of `DataFrame.to_csv`, and argument 'header' will change its default value from False to True: please pass an explicit value to suppress this warning.\n",
      "  \"\"\"Entry point for launching an IPython kernel.\n"
     ]
    }
   ],
   "source": [
    "pd.Series(standard_pop).sort_values(ascending=False).to_csv('standard_final_map.csv')"
   ]
  },
  {
   "cell_type": "code",
   "execution_count": null,
   "metadata": {},
   "outputs": [],
   "source": []
  }
 ],
 "metadata": {
  "kernelspec": {
   "display_name": "Python 3",
   "language": "python",
   "name": "python3"
  },
  "language_info": {
   "codemirror_mode": {
    "name": "ipython",
    "version": 3
   },
   "file_extension": ".py",
   "mimetype": "text/x-python",
   "name": "python",
   "nbconvert_exporter": "python",
   "pygments_lexer": "ipython3",
   "version": "3.7.3"
  }
 },
 "nbformat": 4,
 "nbformat_minor": 2
}
